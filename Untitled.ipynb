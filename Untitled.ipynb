{
 "cells": [
  {
   "cell_type": "code",
   "execution_count": 23,
   "metadata": {},
   "outputs": [],
   "source": [
    "tbl ='''\n",
    "Breaking Bad        ,10001        ,  1,\n",
    "Better Call Saul    ,10001        ,  1,\n",
    "The Walking Dead    ,10001        ,  0,\n",
    "The Daily Show      ,10001        ,  0,\n",
    "Silicon Valley      ,10001        ,  1,\n",
    "The Best Show Ever  ,10001        ,  0,\n",
    "Breaking Bad        ,10002        ,  1,\n",
    "Top Chef            ,10002        ,  1,\n",
    "Top Gear            ,10002        ,  1,\n",
    "The Walking Dead    ,10002        ,  0,\n",
    "The Best Show Ever  ,10002        ,  1,\n",
    "Breaking Bad        ,10007        ,  1,\n",
    "Top Chef            ,10007        ,  1,\n",
    "Iron Chef           ,10007        ,  1,\n",
    "Ancient Aliens      ,10007        ,  1,\n",
    "Ice Road Truckers   ,10007        ,  1,\n",
    "Iyanla Fix My Life ,10007         ,  1,\n",
    "Deadliest Catch     ,10007        ,  1\n",
    "'''\n",
    "tbl = tbl.split(',')\n",
    "data_list = []\n",
    "for i in range(0,len(tbl),3):\n",
    "    row = []\n",
    "    row.append(tbl[i].strip())\n",
    "    row.append(tbl[i+1].strip())\n",
    "    row.append(int(tbl[i+2].strip()))\n",
    "    data_list.append(row)"
   ]
  },
  {
   "cell_type": "code",
   "execution_count": 24,
   "metadata": {
    "collapsed": true
   },
   "outputs": [],
   "source": [
    "import pandas as pd\n",
    "import numpy as np\n"
   ]
  },
  {
   "cell_type": "code",
   "execution_count": 25,
   "metadata": {},
   "outputs": [
    {
     "data": {
      "text/html": [
       "<div>\n",
       "<style>\n",
       "    .dataframe thead tr:only-child th {\n",
       "        text-align: right;\n",
       "    }\n",
       "\n",
       "    .dataframe thead th {\n",
       "        text-align: left;\n",
       "    }\n",
       "\n",
       "    .dataframe tbody tr th {\n",
       "        vertical-align: top;\n",
       "    }\n",
       "</style>\n",
       "<table border=\"1\" class=\"dataframe\">\n",
       "  <thead>\n",
       "    <tr style=\"text-align: right;\">\n",
       "      <th></th>\n",
       "      <th>shows</th>\n",
       "      <th>member_id</th>\n",
       "      <th>like</th>\n",
       "    </tr>\n",
       "  </thead>\n",
       "  <tbody>\n",
       "    <tr>\n",
       "      <th>0</th>\n",
       "      <td>Breaking Bad</td>\n",
       "      <td>10001</td>\n",
       "      <td>1</td>\n",
       "    </tr>\n",
       "    <tr>\n",
       "      <th>1</th>\n",
       "      <td>Better Call Saul</td>\n",
       "      <td>10001</td>\n",
       "      <td>1</td>\n",
       "    </tr>\n",
       "    <tr>\n",
       "      <th>2</th>\n",
       "      <td>The Walking Dead</td>\n",
       "      <td>10001</td>\n",
       "      <td>0</td>\n",
       "    </tr>\n",
       "    <tr>\n",
       "      <th>3</th>\n",
       "      <td>The Daily Show</td>\n",
       "      <td>10001</td>\n",
       "      <td>0</td>\n",
       "    </tr>\n",
       "    <tr>\n",
       "      <th>4</th>\n",
       "      <td>Silicon Valley</td>\n",
       "      <td>10001</td>\n",
       "      <td>1</td>\n",
       "    </tr>\n",
       "  </tbody>\n",
       "</table>\n",
       "</div>"
      ],
      "text/plain": [
       "              shows member_id  like\n",
       "0      Breaking Bad     10001     1\n",
       "1  Better Call Saul     10001     1\n",
       "2  The Walking Dead     10001     0\n",
       "3    The Daily Show     10001     0\n",
       "4    Silicon Valley     10001     1"
      ]
     },
     "execution_count": 25,
     "metadata": {},
     "output_type": "execute_result"
    }
   ],
   "source": [
    "df = pd.DataFrame(data_list, columns=['shows','member_id','like'])\n",
    "df.head()"
   ]
  },
  {
   "cell_type": "code",
   "execution_count": 34,
   "metadata": {},
   "outputs": [
    {
     "data": {
      "text/plain": [
       "array(['Breaking Bad', 'Top Chef', 'Top Gear', 'The Best Show Ever'], dtype=object)"
      ]
     },
     "execution_count": 34,
     "metadata": {},
     "output_type": "execute_result"
    }
   ],
   "source": [
    "##How would you identify people to target with recommendations for \"The Best Show Ever\"?\n",
    "\n",
    "#get members who enjoyed the best show ever\n",
    "members = df[(df['shows']=='The Best Show Ever') & (df['like']==1)]['member_id'].values\n",
    "\n",
    "#get shows these people liked\n",
    "related_shows = df[(df['member_id'].isin(members)) & (df['like']==1)]['shows'].unique()\n",
    "related_shows"
   ]
  },
  {
   "cell_type": "code",
   "execution_count": 42,
   "metadata": {},
   "outputs": [
    {
     "data": {
      "text/plain": [
       "array(['10001', '10002', '10007'], dtype=object)"
      ]
     },
     "execution_count": 42,
     "metadata": {},
     "output_type": "execute_result"
    }
   ],
   "source": [
    "#we can suggest to the viewers of the related_shows that they might like the best show ever\n",
    "df[(df['shows'].isin(related_shows)) & (df['like']==1)]['member_id'].unique()"
   ]
  },
  {
   "cell_type": "code",
   "execution_count": null,
   "metadata": {
    "collapsed": true
   },
   "outputs": [],
   "source": []
  }
 ],
 "metadata": {
  "kernelspec": {
   "display_name": "Python 2",
   "language": "python",
   "name": "python2"
  },
  "language_info": {
   "codemirror_mode": {
    "name": "ipython",
    "version": 2
   },
   "file_extension": ".py",
   "mimetype": "text/x-python",
   "name": "python",
   "nbconvert_exporter": "python",
   "pygments_lexer": "ipython2",
   "version": "2.7.14"
  }
 },
 "nbformat": 4,
 "nbformat_minor": 2
}
