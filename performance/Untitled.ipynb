{
 "cells": [
  {
   "cell_type": "code",
   "execution_count": 1,
   "metadata": {},
   "outputs": [],
   "source": []
  },
  {
   "cell_type": "code",
   "execution_count": 32,
   "metadata": {},
   "outputs": [
    {
     "name": "stdout",
     "output_type": "stream",
     "text": [
      "8.36111092567\n"
     ]
    }
   ],
   "source": [
    "import numpy as np\n",
    "import time\n",
    "\n",
    "def is_even(num):\n",
    "    return not num%2\n",
    "\n",
    "def is_multiple_of_3(num):\n",
    "    return not num%3\n",
    "\n",
    "def is_larger_than_100(num):\n",
    "    return num>100\n",
    "\n",
    "numbers = range(0,10000000)\n",
    "\n",
    "start = time.time()\n",
    "for num in numbers:\n",
    "    if is_even(num):\n",
    "        pass\n",
    "    \n",
    "    if is_multiple_of_3(num):\n",
    "        pass\n",
    "\n",
    "    if is_larger_than_100(num):\n",
    "        pass\n",
    "print time.time() - start\n"
   ]
  },
  {
   "cell_type": "code",
   "execution_count": 27,
   "metadata": {},
   "outputs": [
    {
     "name": "stdout",
     "output_type": "stream",
     "text": [
      "3\n"
     ]
    }
   ],
   "source": [
    "if is_larger_than_100(101):\n",
    "    print '3'"
   ]
  },
  {
   "cell_type": "code",
   "execution_count": null,
   "metadata": {},
   "outputs": [],
   "source": []
  }
 ],
 "metadata": {
  "kernelspec": {
   "display_name": "Python 2",
   "language": "python",
   "name": "python2"
  },
  "language_info": {
   "codemirror_mode": {
    "name": "ipython",
    "version": 2
   },
   "file_extension": ".py",
   "mimetype": "text/x-python",
   "name": "python",
   "nbconvert_exporter": "python",
   "pygments_lexer": "ipython2",
   "version": "2.7.14"
  }
 },
 "nbformat": 4,
 "nbformat_minor": 2
}
