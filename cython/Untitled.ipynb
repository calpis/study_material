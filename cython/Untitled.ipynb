{
 "cells": [
  {
   "cell_type": "code",
   "execution_count": 36,
   "metadata": {},
   "outputs": [],
   "source": [
    "import pandas as pd\n",
    "import numpy as np\n",
    "%load_ext Cython"
   ]
  },
  {
   "cell_type": "code",
   "execution_count": 69,
   "metadata": {},
   "outputs": [],
   "source": [
    "df = pd.DataFrame(zip(np.random.random(100), np.random.choice([1,2,3],100), np.random.random(100)),\\\n",
    "                  columns=['col1','col2','col3'])"
   ]
  },
  {
   "cell_type": "code",
   "execution_count": 24,
   "metadata": {},
   "outputs": [],
   "source": [
    "char_to_int = dict({1:'a', 2:'b', 3:'c'})\n",
    "\n",
    "def add_column(val1, val2):\n",
    "    return char_to_int[val1] + '_' +  str(val2)"
   ]
  },
  {
   "cell_type": "code",
   "execution_count": 31,
   "metadata": {},
   "outputs": [],
   "source": [
    "df['new_column'] = df[['col2','col3']].apply(lambda x: add_column(*x), axis=1)\n",
    "\n",
    "def test_time():\n",
    "    for i in range(100):\n",
    "        df['new_column'] = df[['col2','col3']].apply(lambda x: add_column(*x), axis=1)"
   ]
  },
  {
   "cell_type": "code",
   "execution_count": null,
   "metadata": {},
   "outputs": [],
   "source": []
  },
  {
   "cell_type": "code",
   "execution_count": 45,
   "metadata": {},
   "outputs": [
    {
     "name": "stdout",
     "output_type": "stream",
     "text": [
      "1 loop, best of 3: 385 ms per loop\n"
     ]
    }
   ],
   "source": [
    "%timeit  test_time()"
   ]
  },
  {
   "cell_type": "code",
   "execution_count": 73,
   "metadata": {},
   "outputs": [
    {
     "name": "stdout",
     "output_type": "stream",
     "text": [
      "1 loop, best of 3: 343 ms per loop\n"
     ]
    }
   ],
   "source": [
    "df['new_column'] = df[['col2','col3']].apply(lambda x: add_column(*x), axis=1)\n",
    "\n",
    "def test_time():\n",
    "    for i in range(100):\n",
    "        df['new_column'] = df.apply(lambda x: add_column(x['col2'], x['col3']), axis=1)\n",
    "        \n",
    "%timeit  test_time()"
   ]
  },
  {
   "cell_type": "code",
   "execution_count": 81,
   "metadata": {},
   "outputs": [
    {
     "name": "stdout",
     "output_type": "stream",
     "text": [
      " "
     ]
    },
    {
     "data": {
      "text/plain": [
       "         925404 function calls (884304 primitive calls) in 0.676 seconds\n",
       "\n",
       "   Ordered by: internal time\n",
       "   List reduced from 164 to 4 due to restriction <4>\n",
       "\n",
       "   ncalls  tottime  percall  cumtime  percall filename:lineno(function)\n",
       "    20000    0.072    0.000    0.371    0.000 base.py:2454(get_value)\n",
       "    20000    0.039    0.000    0.423    0.000 series.py:598(__getitem__)\n",
       "    20000    0.035    0.000    0.084    0.000 base.py:1303(_convert_scalar_indexer)\n",
       "      100    0.035    0.000    0.605    0.006 {pandas._libs.lib.reduce}"
      ]
     },
     "metadata": {},
     "output_type": "display_data"
    }
   ],
   "source": [
    "%prun -l 4 test_time()"
   ]
  },
  {
   "cell_type": "code",
   "execution_count": 176,
   "metadata": {},
   "outputs": [],
   "source": [
    "%%cython \n",
    "cimport numpy as np\n",
    "import numpy as np\n",
    "char_to_int = dict({1:1, 2:2, 3:3})\n",
    "char_to_int = dict({1:'a', 2:'b', 3:'c'})\n",
    "\n",
    "cpdef str add_column_cython(int val1, int val2):\n",
    "\n",
    "    return char_to_int[val1]# + '_' +  str(val2)\n",
    "\n",
    "cpdef np.ndarray[str] apply_add_column_cython(np.ndarray col_1, np.ndarray col_2):\n",
    "    cdef Py_ssize_t n = len(col_1)\n",
    "    #cdef np.ndarray[str] res = np.empty(n, dtype=str)\n",
    "    cdef np.ndarray res = np.empty(n, object)\n",
    "    for i in range(len(col_1)):\n",
    "        res[i] = add_column_cython(col_1[i], col_2[i])\n",
    "    return res\n",
    "        "
   ]
  },
  {
   "cell_type": "code",
   "execution_count": 177,
   "metadata": {},
   "outputs": [],
   "source": [
    "def test_time_cython():\n",
    "    for i in range(100):\n",
    "        #df['new_column'] = df[['col2','col3']].apply(lambda x: add_column_cython(*x), axis=1)\n",
    "        #df['new_column'] = df.apply(lambda x: add_column_cython(x['col2'], x['col3']), axis=1)\n",
    "        apply_add_column_cython(df['col2'].values, df['col3'].values)"
   ]
  },
  {
   "cell_type": "code",
   "execution_count": 178,
   "metadata": {},
   "outputs": [
    {
     "name": "stdout",
     "output_type": "stream",
     "text": [
      "100 loops, best of 3: 2.91 ms per loop\n"
     ]
    }
   ],
   "source": [
    "%timeit  test_time_cython()"
   ]
  },
  {
   "cell_type": "code",
   "execution_count": 179,
   "metadata": {},
   "outputs": [
    {
     "name": "stdout",
     "output_type": "stream",
     "text": [
      " "
     ]
    },
    {
     "data": {
      "text/plain": [
       "         2704 function calls in 0.005 seconds\n",
       "\n",
       "   Ordered by: internal time\n",
       "   List reduced from 18 to 4 due to restriction <4>\n",
       "\n",
       "   ncalls  tottime  percall  cumtime  percall filename:lineno(function)\n",
       "      100    0.003    0.000    0.003    0.000 {_cython_magic_b91fdf54214ab0d05cf287eb3a897765.apply_add_column_cython}\n",
       "      200    0.001    0.000    0.002    0.000 frame.py:1940(__getitem__)\n",
       "        1    0.000    0.000    0.005    0.005 <ipython-input-177-07eca7346780>:1(test_time_cython)\n",
       "      200    0.000    0.000    0.000    0.000 base.py:1638(__contains__)"
      ]
     },
     "metadata": {},
     "output_type": "display_data"
    }
   ],
   "source": [
    "%prun -l 4 test_time_cython()"
   ]
  },
  {
   "cell_type": "markdown",
   "metadata": {},
   "source": [
    "https://pandas.pydata.org/pandas-docs/version/0.22.0/enhancingperf.html"
   ]
  },
  {
   "cell_type": "code",
   "execution_count": 142,
   "metadata": {},
   "outputs": [
    {
     "name": "stdout",
     "output_type": "stream",
     "text": [
      " "
     ]
    },
    {
     "data": {
      "text/plain": [
       "         2704 function calls in 0.007 seconds\n",
       "\n",
       "   Ordered by: internal time\n",
       "   List reduced from 18 to 4 due to restriction <4>\n",
       "\n",
       "   ncalls  tottime  percall  cumtime  percall filename:lineno(function)\n",
       "      100    0.003    0.000    0.003    0.000 {_cython_magic_e925acb518b667df47a7fdb33883c308.apply_add_column_cython}\n",
       "      200    0.001    0.000    0.002    0.000 frame.py:1940(__getitem__)\n",
       "        1    0.001    0.001    0.007    0.007 <ipython-input-140-07eca7346780>:1(test_time_cython)\n",
       "      200    0.000    0.000    0.000    0.000 base.py:1638(__contains__)"
      ]
     },
     "metadata": {},
     "output_type": "display_data"
    }
   ],
   "source": [
    "%prun -l 4 test_time_cython()"
   ]
  },
  {
   "cell_type": "code",
   "execution_count": 160,
   "metadata": {},
   "outputs": [
    {
     "data": {
      "text/plain": [
       "'0.26.1'"
      ]
     },
     "execution_count": 160,
     "metadata": {},
     "output_type": "execute_result"
    }
   ],
   "source": [
    "import cython\n",
    "cython.__version__"
   ]
  },
  {
   "cell_type": "code",
   "execution_count": 172,
   "metadata": {},
   "outputs": [
    {
     "name": "stdout",
     "output_type": "stream",
     "text": [
      "The Cython extension is already loaded. To reload it, use:\n",
      "  %reload_ext Cython\n"
     ]
    }
   ],
   "source": [
    "import numpy as np\n",
    "%load_ext Cython"
   ]
  },
  {
   "cell_type": "code",
   "execution_count": 174,
   "metadata": {},
   "outputs": [],
   "source": [
    "%%cython \n",
    "\n",
    "import numpy as np\n",
    "cimport numpy as np\n",
    "\n",
    "cdef func(str foo):\n",
    "    cdef np.ndarray res = np.empty(1, object)\n",
    "    res[0] = foo\n",
    "    return res\n",
    "    \n",
    "def testing():\n",
    "    print func('blah')"
   ]
  },
  {
   "cell_type": "code",
   "execution_count": 175,
   "metadata": {},
   "outputs": [
    {
     "name": "stdout",
     "output_type": "stream",
     "text": [
      "['blah']\n"
     ]
    }
   ],
   "source": [
    "testing()"
   ]
  },
  {
   "cell_type": "code",
   "execution_count": null,
   "metadata": {},
   "outputs": [],
   "source": []
  },
  {
   "cell_type": "code",
   "execution_count": null,
   "metadata": {},
   "outputs": [],
   "source": []
  },
  {
   "cell_type": "code",
   "execution_count": null,
   "metadata": {},
   "outputs": [],
   "source": []
  },
  {
   "cell_type": "code",
   "execution_count": 52,
   "metadata": {},
   "outputs": [],
   "source": [
    "df = pd.DataFrame({'a': np.random.randn(1000),\n",
    "                      'b': np.random.randn(1000),\n",
    "                      'N': np.random.randint(100, 1000, (1000)),\n",
    "                       'x': 'x'})\n"
   ]
  },
  {
   "cell_type": "code",
   "execution_count": 54,
   "metadata": {},
   "outputs": [],
   "source": [
    "def f(x):\n",
    "    return x * (x - 1)\n",
    "\n",
    "\n",
    "def integrate_f(a, b, N):\n",
    "    s = 0\n",
    "    dx = (b - a) / N\n",
    "    for i in range(N):\n",
    "        s += f(a + i * dx)\n",
    "    return s * dx"
   ]
  },
  {
   "cell_type": "code",
   "execution_count": 55,
   "metadata": {},
   "outputs": [
    {
     "name": "stdout",
     "output_type": "stream",
     "text": [
      "1 loop, best of 3: 302 ms per loop\n"
     ]
    }
   ],
   "source": [
    "%timeit df.apply(lambda x: integrate_f(x['a'], x['b'], x['N']), axis=1)"
   ]
  },
  {
   "cell_type": "code",
   "execution_count": 56,
   "metadata": {},
   "outputs": [
    {
     "name": "stdout",
     "output_type": "stream",
     "text": [
      " "
     ]
    },
    {
     "data": {
      "text/plain": [
       "         668979 function calls (663970 primitive calls) in 0.434 seconds\n",
       "\n",
       "   Ordered by: internal time\n",
       "   List reduced from 135 to 4 due to restriction <4>\n",
       "\n",
       "   ncalls  tottime  percall  cumtime  percall filename:lineno(function)\n",
       "     1000    0.237    0.000    0.354    0.000 <ipython-input-54-2af0239c16c6>:5(integrate_f)\n",
       "   549446    0.114    0.000    0.114    0.000 <ipython-input-54-2af0239c16c6>:1(f)\n",
       "     3000    0.010    0.000    0.054    0.000 base.py:2454(get_value)\n",
       "     3000    0.006    0.000    0.062    0.000 series.py:598(__getitem__)"
      ]
     },
     "metadata": {},
     "output_type": "display_data"
    }
   ],
   "source": [
    "%prun -l 4 df.apply(lambda x: integrate_f(x['a'], x['b'], x['N']), axis=1)"
   ]
  },
  {
   "cell_type": "code",
   "execution_count": 58,
   "metadata": {},
   "outputs": [
    {
     "name": "stdout",
     "output_type": "stream",
     "text": [
      "The Cython extension is already loaded. To reload it, use:\n",
      "  %reload_ext Cython\n"
     ]
    }
   ],
   "source": [
    "%load_ext Cython\n"
   ]
  },
  {
   "cell_type": "code",
   "execution_count": 60,
   "metadata": {},
   "outputs": [],
   "source": [
    "%%cython\n",
    "def f_plain(x):\n",
    "    return x * (x - 1)\n",
    "def integrate_f_plain(a, b, N):\n",
    "    s = 0\n",
    "    dx = (b - a) / N\n",
    "    for i in range(N):\n",
    "        s += f_plain(a + i * dx)\n",
    "    return s * dx\n"
   ]
  },
  {
   "cell_type": "code",
   "execution_count": 61,
   "metadata": {},
   "outputs": [
    {
     "name": "stdout",
     "output_type": "stream",
     "text": [
      "10 loops, best of 3: 87.8 ms per loop\n"
     ]
    }
   ],
   "source": [
    "%timeit df.apply(lambda x: integrate_f_plain(x['a'], x['b'], x['N']), axis=1)"
   ]
  },
  {
   "cell_type": "code",
   "execution_count": 62,
   "metadata": {},
   "outputs": [],
   "source": [
    "%%cython\n",
    "cdef double f_typed(double x) except? -2:\n",
    "    return x * (x - 1)\n",
    "cpdef double integrate_f_typed(double a, double b, int N):\n",
    "    cdef int i\n",
    "    cdef double s, dx\n",
    "    s = 0\n",
    "    dx = (b - a) / N\n",
    "    for i in range(N):\n",
    "        s += f_typed(a + i * dx)\n",
    "    return s * dx"
   ]
  },
  {
   "cell_type": "code",
   "execution_count": 63,
   "metadata": {},
   "outputs": [
    {
     "name": "stdout",
     "output_type": "stream",
     "text": [
      "10 loops, best of 3: 39.9 ms per loop\n"
     ]
    }
   ],
   "source": [
    "%timeit df.apply(lambda x: integrate_f_typed(x['a'], x['b'], x['N']), axis=1)"
   ]
  },
  {
   "cell_type": "code",
   "execution_count": 64,
   "metadata": {},
   "outputs": [
    {
     "name": "stdout",
     "output_type": "stream",
     "text": [
      " "
     ]
    },
    {
     "data": {
      "text/plain": [
       "         118533 function calls (113524 primitive calls) in 0.112 seconds\n",
       "\n",
       "   Ordered by: internal time\n",
       "   List reduced from 133 to 4 due to restriction <4>\n",
       "\n",
       "   ncalls  tottime  percall  cumtime  percall filename:lineno(function)\n",
       "     3000    0.015    0.000    0.077    0.000 base.py:2454(get_value)\n",
       "     3000    0.008    0.000    0.087    0.000 series.py:598(__getitem__)\n",
       "     3000    0.007    0.000    0.017    0.000 base.py:1303(_convert_scalar_indexer)\n",
       "     3000    0.005    0.000    0.011    0.000 internals.py:4224(get_values)"
      ]
     },
     "metadata": {},
     "output_type": "display_data"
    }
   ],
   "source": [
    "%prun -l 4 df.apply(lambda x: integrate_f_typed(x['a'], x['b'], x['N']), axis=1)"
   ]
  },
  {
   "cell_type": "code",
   "execution_count": 65,
   "metadata": {},
   "outputs": [],
   "source": [
    "%%cython\n",
    "cimport numpy as np\n",
    "import numpy as np\n",
    "cdef double f_typed(double x) except? -2:\n",
    "    return x * (x - 1)\n",
    "cpdef double integrate_f_typed(double a, double b, int N):\n",
    "    cdef int i\n",
    "    cdef double s, dx\n",
    "    s = 0\n",
    "    dx = (b - a) / N\n",
    "    for i in range(N):\n",
    "        s += f_typed(a + i * dx)\n",
    "    return s * dx\n",
    "cpdef np.ndarray[double] apply_integrate_f(np.ndarray col_a, np.ndarray col_b, np.ndarray col_N):\n",
    "    assert (col_a.dtype == np.float and col_b.dtype == np.float and col_N.dtype == np.int)\n",
    "    cdef Py_ssize_t i, n = len(col_N)\n",
    "    assert (len(col_a) == len(col_b) == n)\n",
    "    cdef np.ndarray[double] res = np.empty(n)\n",
    "    for i in range(len(col_a)):\n",
    "        res[i] = integrate_f_typed(col_a[i], col_b[i], col_N[i])\n",
    "    return res"
   ]
  },
  {
   "cell_type": "code",
   "execution_count": 67,
   "metadata": {},
   "outputs": [
    {
     "name": "stdout",
     "output_type": "stream",
     "text": [
      "10 loops, best of 3: 39.1 ms per loop\n"
     ]
    }
   ],
   "source": [
    "%timeit df.apply(lambda x: integrate_f_typed(x['a'], x['b'], x['N']), axis=1)"
   ]
  },
  {
   "cell_type": "code",
   "execution_count": null,
   "metadata": {},
   "outputs": [],
   "source": []
  }
 ],
 "metadata": {
  "kernelspec": {
   "display_name": "Python 2",
   "language": "python",
   "name": "python2"
  },
  "language_info": {
   "codemirror_mode": {
    "name": "ipython",
    "version": 2
   },
   "file_extension": ".py",
   "mimetype": "text/x-python",
   "name": "python",
   "nbconvert_exporter": "python",
   "pygments_lexer": "ipython2",
   "version": "2.7.14"
  }
 },
 "nbformat": 4,
 "nbformat_minor": 2
}
