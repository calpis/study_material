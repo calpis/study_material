{
 "cells": [
  {
   "cell_type": "code",
   "execution_count": 137,
   "metadata": {},
   "outputs": [],
   "source": [
    "import numpy as np"
   ]
  },
  {
   "cell_type": "code",
   "execution_count": 138,
   "metadata": {},
   "outputs": [],
   "source": [
    "class LinearRegression(object):\n",
    "    '''linear regression object. assumes no intercept for learning purposes'''\n",
    "    def __init__(self, num_iter=1000, lr=0.01):\n",
    "        self.num_iter = num_iter\n",
    "        self.lr = lr\n",
    "                \n",
    "        \n",
    "    def fit(self, x, y):\n",
    "        '''\n",
    "        x is a nxm matrix, and y a nx1 array.\n",
    "        n samples, m features\n",
    "        '''\n",
    "        \n",
    "        #init weights\n",
    "        self.theta = np.zeros(x.shape[1])\n",
    "        \n",
    "        for i in range(self.num_iter):\n",
    "            #get predicted values\n",
    "            predictions = self.predict(x)\n",
    "            \n",
    "            #calculate derivative of mse\n",
    "            gradient = -2*np.dot(x.T, (y-predictions))/y.size\n",
    "            self.theta -= self.lr * gradient\n",
    "\n",
    "            \n",
    "    def predict(self, x):\n",
    "        return np.dot(x, self.theta)\n",
    "        \n",
    "        \n",
    "        "
   ]
  },
  {
   "cell_type": "code",
   "execution_count": 139,
   "metadata": {},
   "outputs": [],
   "source": [
    "x = np.array([i for i in range(5)])\n",
    "y = x\n",
    "x = x.reshape(-1,1)\n",
    "lr = LinearRegression(num_iter=100)\n",
    "lr.fit(x,y)"
   ]
  },
  {
   "cell_type": "code",
   "execution_count": 140,
   "metadata": {},
   "outputs": [
    {
     "data": {
      "text/plain": [
       "array([0.        , 0.99999719, 1.99999439, 2.99999158, 3.99998877])"
      ]
     },
     "execution_count": 140,
     "metadata": {},
     "output_type": "execute_result"
    }
   ],
   "source": [
    "lr.predict(x)"
   ]
  },
  {
   "cell_type": "code",
   "execution_count": null,
   "metadata": {},
   "outputs": [],
   "source": []
  }
 ],
 "metadata": {
  "kernelspec": {
   "display_name": "Python 2",
   "language": "python",
   "name": "python2"
  },
  "language_info": {
   "codemirror_mode": {
    "name": "ipython",
    "version": 2
   },
   "file_extension": ".py",
   "mimetype": "text/x-python",
   "name": "python",
   "nbconvert_exporter": "python",
   "pygments_lexer": "ipython2",
   "version": "2.7.14"
  }
 },
 "nbformat": 4,
 "nbformat_minor": 2
}
