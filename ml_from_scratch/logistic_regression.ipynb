{
 "cells": [
  {
   "cell_type": "code",
   "execution_count": 3,
   "metadata": {},
   "outputs": [],
   "source": [
    "import matplotlib.pyplot as plt\n",
    "import numpy as np\n",
    "from sklearn.datasets import load_iris\n",
    "\n",
    "%matplotlib inline"
   ]
  },
  {
   "cell_type": "code",
   "execution_count": 4,
   "metadata": {},
   "outputs": [],
   "source": [
    "iris = load_iris()\n",
    "x = iris.data[:, :2]\n",
    "y = (iris.target != 0) * 1 #convert to numeric. \n"
   ]
  },
  {
   "cell_type": "code",
   "execution_count": 7,
   "metadata": {},
   "outputs": [
    {
     "data": {
      "text/plain": [
       "<matplotlib.collections.PathCollection at 0x10db7bc10>"
      ]
     },
     "execution_count": 7,
     "metadata": {},
     "output_type": "execute_result"
    },
    {
     "data": {
      "image/png": "[encoded data removed]",
      "text/plain": [
       "<matplotlib.figure.Figure at 0x10db15090>"
      ]
     },
     "metadata": {},
     "output_type": "display_data"
    }
   ],
   "source": [
    "plt.scatter([i[0] for i in x], [i[1] for i in x], c=y)"
   ]
  },
  {
   "cell_type": "code",
   "execution_count": 23,
   "metadata": {},
   "outputs": [],
   "source": [
    "class LogisticRegression(object):\n",
    "    def __init__(self, lr=0.01, num_iter=100000, fit_intercept=True, verbose=False):\n",
    "        self.lr = lr\n",
    "        self.num_iter = num_iter\n",
    "        self.fit_intercept = fit_intercept  \n",
    "        self.theta = 0\n",
    "        \n",
    "    def __sigmoid(self, z):\n",
    "        return 1/(1+np.exp(-z))\n",
    "    \n",
    "    def __loss(self, h, y):\n",
    "        '''\n",
    "        Computes J(theta), the loss of prediction.\n",
    "        h is the estimated output, y is the true output\n",
    "        '''\n",
    "        return (-y * np.log(h) - (1-y) * np.log(1-h)).mean()\n",
    "\n",
    "    \n",
    "    def fit(self, x, y, verbose=False):\n",
    "        '''\n",
    "        x should be a nxm matrix. n samples, m features\n",
    "        '''  \n",
    "        #init weights. shape should be the number of features\n",
    "        self.theta = np.zeros(x.shape[1])\n",
    "        \n",
    "        for i in range(self.num_iter):\n",
    "            #calculate output for all samples\n",
    "            h = np.dot(x, self.theta)\n",
    "\n",
    "            #apply sigmoid\n",
    "            pred = self.__sigmoid(h)\n",
    "\n",
    "            #calculate loss\n",
    "            if verbose:\n",
    "                print self.__loss(h, y)\n",
    "            \n",
    "            #get gradient\n",
    "            gradient = np.dot(x.T, (pred-y))/y.size\n",
    "            \n",
    "            #update weights\n",
    "            self.theta -= self.lr * gradient\n",
    "            \n",
    "    def predict(self, x):\n",
    "        predictions = self.__sigmoid(np.dot(x,  self.theta)) >=  0.5\n",
    "        return predictions\n",
    "        "
   ]
  },
  {
   "cell_type": "code",
   "execution_count": 24,
   "metadata": {},
   "outputs": [],
   "source": [
    "lr = LogisticRegression()\n",
    "lr.fit(x,y)\n"
   ]
  },
  {
   "cell_type": "code",
   "execution_count": 25,
   "metadata": {},
   "outputs": [
    {
     "data": {
      "text/plain": [
       "0.9333333333333333"
      ]
     },
     "execution_count": 25,
     "metadata": {},
     "output_type": "execute_result"
    }
   ],
   "source": [
    "predictions = lr.predict(x)\n",
    "sum(predictions==y)/float(len(y))"
   ]
  },
  {
   "cell_type": "code",
   "execution_count": null,
   "metadata": {},
   "outputs": [],
   "source": []
  }
 ],
 "metadata": {
  "kernelspec": {
   "display_name": "Python 2",
   "language": "python",
   "name": "python2"
  },
  "language_info": {
   "codemirror_mode": {
    "name": "ipython",
    "version": 2
   },
   "file_extension": ".py",
   "mimetype": "text/x-python",
   "name": "python",
   "nbconvert_exporter": "python",
   "pygments_lexer": "ipython2",
   "version": "2.7.14"
  }
 },
 "nbformat": 4,
 "nbformat_minor": 2
}
