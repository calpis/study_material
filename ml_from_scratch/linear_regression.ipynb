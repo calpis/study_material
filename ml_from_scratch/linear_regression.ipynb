{
 "cells": [
  {
   "cell_type": "code",
   "execution_count": 3,
   "metadata": {},
   "outputs": [],
   "source": [
    "import numpy as np"
   ]
  },
  {
   "cell_type": "code",
   "execution_count": 9,
   "metadata": {},
   "outputs": [],
   "source": [
    "class LinearRegression(object):\n",
    "    '''linear regression object. assumes no intercept for learning purposes'''\n",
    "    def __init__(self, num_iter=1000, lr=0.01):\n",
    "        self.num_iter = num_iter\n",
    "        self.lr = lr\n",
    "                \n",
    "    def fit(self, x, y):\n",
    "        '''\n",
    "        x is a nxm matrix, and y a nx1 array.\n",
    "        '''        \n",
    "        #init weights\n",
    "        self.theta = np.zeros(x.shape[1])\n",
    "        self.b = 0\n",
    "        \n",
    "        for i in range(self.num_iter):\n",
    "            #get predicted values\n",
    "            predictions = self.predict(x)\n",
    "            \n",
    "            #calculate gradient\n",
    "            gradient_theta = -2*np.dot(x.T, (y-predictions))/y.size\n",
    "            gradient_b = -2*(sum(y-predictions))/y.size\n",
    "            \n",
    "            #update\n",
    "            self.theta -= self.lr * gradient_theta\n",
    "            self.b -= self.lr * gradient_b\n",
    "      \n",
    "    def predict(self, x):\n",
    "        return np.dot(x, self.theta) + self.b\n",
    "        \n",
    "    def describe(self):\n",
    "        print 'slope: {}'.format(self.theta)\n",
    "        print 'intercept: {}'.format(self.b)\n",
    "        \n",
    "        "
   ]
  },
  {
   "cell_type": "code",
   "execution_count": 13,
   "metadata": {},
   "outputs": [],
   "source": [
    "x = np.array([i for i in range(5)])\n",
    "y = x\n",
    "x = x.reshape(-1,1)\n",
    "lr = LinearRegression()\n",
    "lr.fit(x,y)"
   ]
  },
  {
   "cell_type": "code",
   "execution_count": 14,
   "metadata": {},
   "outputs": [
    {
     "data": {
      "text/plain": [
       "array([7.84643791e-04, 1.00050941e+00, 2.00023417e+00, 2.99995893e+00,\n",
       "       3.99968369e+00])"
      ]
     },
     "execution_count": 14,
     "metadata": {},
     "output_type": "execute_result"
    }
   ],
   "source": [
    "lr.predict(x)"
   ]
  },
  {
   "cell_type": "code",
   "execution_count": 15,
   "metadata": {},
   "outputs": [
    {
     "name": "stdout",
     "output_type": "stream",
     "text": [
      "slope: [0.99972476]\n",
      "intercept: 0.000784643791302\n"
     ]
    }
   ],
   "source": [
    "lr.describe()"
   ]
  },
  {
   "cell_type": "code",
   "execution_count": 17,
   "metadata": {},
   "outputs": [
    {
     "data": {
      "text/plain": [
       "array([0.9985478 , 1.9990572 , 2.99956661, 4.00007601, 5.00058542])"
      ]
     },
     "execution_count": 17,
     "metadata": {},
     "output_type": "execute_result"
    }
   ],
   "source": [
    "y = np.array([i+1 for i in range(5)])\n",
    "lr = LinearRegression()\n",
    "lr.fit(x,y)\n",
    "lr.predict(x)"
   ]
  },
  {
   "cell_type": "code",
   "execution_count": 18,
   "metadata": {},
   "outputs": [
    {
     "name": "stdout",
     "output_type": "stream",
     "text": [
      "slope: [1.00050941]\n",
      "intercept: 0.998547796133\n"
     ]
    }
   ],
   "source": [
    "lr.describe()"
   ]
  },
  {
   "cell_type": "code",
   "execution_count": null,
   "metadata": {},
   "outputs": [],
   "source": []
  }
 ],
 "metadata": {
  "kernelspec": {
   "display_name": "Python 2",
   "language": "python",
   "name": "python2"
  },
  "language_info": {
   "codemirror_mode": {
    "name": "ipython",
    "version": 2
   },
   "file_extension": ".py",
   "mimetype": "text/x-python",
   "name": "python",
   "nbconvert_exporter": "python",
   "pygments_lexer": "ipython2",
   "version": "2.7.14"
  }
 },
 "nbformat": 4,
 "nbformat_minor": 2
}
