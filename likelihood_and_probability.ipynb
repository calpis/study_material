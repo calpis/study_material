{
 "cells": [
  {
   "cell_type": "code",
   "execution_count": 2,
   "metadata": {
    "collapsed": true
   },
   "outputs": [],
   "source": [
    "import math\n"
   ]
  },
  {
   "cell_type": "markdown",
   "metadata": {},
   "source": [
    "Likelihood: data is fixed (given) and hypothesis varies<br>\n",
    "conditional probability: hypothesis is given, data is varied<br>\n",
    "\n",
    "ex:<br>\n",
    "data: flip coin 10 times and 6 comes up heads.<br> \n",
    "hypothesis: We consider two coins, a *fair coin* and an *unfair coin*(P(H) = 0.75)"
   ]
  },
  {
   "cell_type": "code",
   "execution_count": 26,
   "metadata": {
    "collapsed": true
   },
   "outputs": [],
   "source": [
    "def nCr(n,r):\n",
    "    f = math.factorial\n",
    "    return f(n)/(f(r)*f(n-r))\n",
    "\n",
    "def probability_x(probability):\n",
    "    '''returns probability of 6/10 heads with a coin which has\n",
    "    P(H) of probability'''\n",
    "    return nCr(10,6)*math.pow(probability,6)*math.pow(1-probability, 4)"
   ]
  },
  {
   "cell_type": "code",
   "execution_count": 30,
   "metadata": {},
   "outputs": [
    {
     "name": "stdout",
     "output_type": "stream",
     "text": [
      "1.0 0.0\n",
      "0.9 0.011160261\n",
      "0.8 0.088080384\n",
      "0.7 0.200120949\n",
      "0.6 0.250822656\n",
      "0.5 0.205078125\n",
      "0.4 0.111476736\n",
      "0.3 0.036756909\n",
      "0.2 0.005505024\n",
      "0.1 0.000137781\n"
     ]
    }
   ],
   "source": [
    "total = 0\n",
    "max = 10\n",
    "for i in range(max):\n",
    "    prob = 1 - (1.0/(max))*i\n",
    "    print prob, probability_x(prob)\n",
    "    "
   ]
  },
  {
   "cell_type": "code",
   "execution_count": 8,
   "metadata": {},
   "outputs": [
    {
     "data": {
      "text/plain": [
       "9.0"
      ]
     },
     "execution_count": 8,
     "metadata": {},
     "output_type": "execute_result"
    }
   ],
   "source": [
    "math.pow(3,2)"
   ]
  },
  {
   "cell_type": "code",
   "execution_count": null,
   "metadata": {
    "collapsed": true
   },
   "outputs": [],
   "source": []
  }
 ],
 "metadata": {
  "kernelspec": {
   "display_name": "Python 2",
   "language": "python",
   "name": "python2"
  },
  "language_info": {
   "codemirror_mode": {
    "name": "ipython",
    "version": 2
   },
   "file_extension": ".py",
   "mimetype": "text/x-python",
   "name": "python",
   "nbconvert_exporter": "python",
   "pygments_lexer": "ipython2",
   "version": "2.7.13"
  }
 },
 "nbformat": 4,
 "nbformat_minor": 2
}
