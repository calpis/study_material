{
 "cells": [
  {
   "cell_type": "markdown",
   "metadata": {},
   "source": [
    "## One sample bootstrap hypothesis test\n",
    "\n",
    "using a malware sample's prevalence as the test statistic, we compare this with the mean of the bootstrapped distributions to find a confidence interval.\n",
    "\n",
    "Another way to use this is figure out if a prior dataset's mean is shifted from the current dataset, in which case this condition can trigger to update the dataset used in the bootstrapping test. \n"
   ]
  },
  {
   "cell_type": "code",
   "execution_count": 1,
   "metadata": {},
   "outputs": [],
   "source": [
    "import numpy as np\n",
    "import pandas as pd"
   ]
  },
  {
   "cell_type": "code",
   "execution_count": 2,
   "metadata": {},
   "outputs": [],
   "source": [
    "input1 = '/Users/momori/data/mcafee/mc_malware_data/unprocessed/Hourly_Report_-_Malware_Report-2018-03-13-1.csv'\n",
    "sample = '/Users/momori/data/mcafee/mc_malware_data/unprocessed/1Hourly_Report_-_Malware_Report-2018-03-11.csv'"
   ]
  },
  {
   "cell_type": "code",
   "execution_count": 3,
   "metadata": {},
   "outputs": [],
   "source": [
    "df = pd.read_csv(input1)"
   ]
  },
  {
   "cell_type": "code",
   "execution_count": 4,
   "metadata": {},
   "outputs": [
    {
     "name": "stdout",
     "output_type": "stream",
     "text": [
      "sample counts length is: 24062\n"
     ]
    }
   ],
   "source": [
    "counts = df['count'].values\n",
    "num_samples = len(counts)\n",
    "print 'sample counts length is:', num_samples"
   ]
  },
  {
   "cell_type": "code",
   "execution_count": 5,
   "metadata": {},
   "outputs": [
    {
     "data": {
      "text/plain": [
       "(2.7691380600116364, 13.165816787800944)"
      ]
     },
     "execution_count": 5,
     "metadata": {},
     "output_type": "execute_result"
    }
   ],
   "source": [
    "mean_orig, mean_std = np.mean(counts), np.std(counts)\n",
    "mean_orig, mean_std"
   ]
  },
  {
   "cell_type": "code",
   "execution_count": 6,
   "metadata": {},
   "outputs": [],
   "source": [
    "sample_prev = [1,10,101,272,440,862]\n"
   ]
  },
  {
   "cell_type": "markdown",
   "metadata": {},
   "source": [
    "### we want to compare the prevalence counts in sample_prev with the bootstrapped distribution taken from the original sample"
   ]
  },
  {
   "cell_type": "code",
   "execution_count": 23,
   "metadata": {},
   "outputs": [],
   "source": [
    "def bootstrap_samples(original_sample, count=1000):\n",
    "    sample_size = len(original_sample)\n",
    "    bootstrapped_means = []\n",
    "    bootstrapped_std = []\n",
    "    for _ in range(count):\n",
    "        bootstrapped_sample =np.random.choice(original_sample, sample_size, replace=True)\n",
    "        m, std = np.mean(bootstrapped_sample), np.std(bootstrapped_sample)\n",
    "        bootstrapped_means.append(m)\n",
    "        bootstrapped_std.append(std)\n",
    "    return np.array(bootstrapped_means), np.array(bootstrapped_std)"
   ]
  },
  {
   "cell_type": "code",
   "execution_count": 24,
   "metadata": {},
   "outputs": [],
   "source": [
    "means, std = bootstrap_samples(counts)\n"
   ]
  },
  {
   "cell_type": "code",
   "execution_count": 36,
   "metadata": {},
   "outputs": [],
   "source": [
    "shifted_counts = counts + 3 - np.mean(counts)\n",
    "shifted_means, shifted_stds = bootstrap_samples(shifted_counts, count=1000)"
   ]
  },
  {
   "cell_type": "code",
   "execution_count": 37,
   "metadata": {},
   "outputs": [
    {
     "data": {
      "text/plain": [
       "1.0"
      ]
     },
     "execution_count": 37,
     "metadata": {},
     "output_type": "execute_result"
    }
   ],
   "source": [
    "p = np.sum(shifted_means >= np.mean(counts))/1000.0  \n",
    "p  #0.671 p-value says very likely a sample with prev=3 came from the original distribution"
   ]
  },
  {
   "cell_type": "code",
   "execution_count": 42,
   "metadata": {},
   "outputs": [
    {
     "name": "stdout",
     "output_type": "stream",
     "text": [
      "0 : 0.0\n",
      "1 : 0.0\n",
      "2 : 0.0\n",
      "3 : 0.488\n",
      "4 : 1.0\n",
      "5 : 1.0\n",
      "6 : 1.0\n",
      "7 : 1.0\n",
      "8 : 1.0\n",
      "9 : 1.0\n"
     ]
    }
   ],
   "source": [
    "for i in range(10):\n",
    "    print i, ':', np.sum(shifted_means <= i)/1000.0"
   ]
  },
  {
   "cell_type": "code",
   "execution_count": null,
   "metadata": {},
   "outputs": [],
   "source": []
  },
  {
   "cell_type": "code",
   "execution_count": 27,
   "metadata": {},
   "outputs": [
    {
     "data": {
      "text/plain": [
       "0.007"
      ]
     },
     "execution_count": 27,
     "metadata": {},
     "output_type": "execute_result"
    }
   ],
   "source": [
    "#p = np.sum(bs_replicates <= np.mean(force_b)) / 10000\n",
    "p = np.sum(means >= 3)/(1000.0)\n",
    "p"
   ]
  },
  {
   "cell_type": "code",
   "execution_count": 46,
   "metadata": {},
   "outputs": [
    {
     "data": {
      "text/plain": [
       "array([2.60984124, 2.94876569])"
      ]
     },
     "execution_count": 46,
     "metadata": {},
     "output_type": "execute_result"
    }
   ],
   "source": [
    "np.percentile(means,[2.5, 97.5])"
   ]
  },
  {
   "cell_type": "code",
   "execution_count": 31,
   "metadata": {},
   "outputs": [
    {
     "data": {
      "text/plain": [
       "array([12.25483825, 13.46786968, 14.20973438, 14.24500675, 16.24208   ,\n",
       "       12.56763415, 14.98918414, 13.80436168, 14.28304074, 13.30105929])"
      ]
     },
     "execution_count": 31,
     "metadata": {},
     "output_type": "execute_result"
    }
   ],
   "source": [
    "std[:10]"
   ]
  },
  {
   "cell_type": "code",
   "execution_count": 41,
   "metadata": {},
   "outputs": [
    {
     "data": {
      "text/plain": [
       "(2.7693714570692376, 13.070846248828445)"
      ]
     },
     "execution_count": 41,
     "metadata": {},
     "output_type": "execute_result"
    }
   ],
   "source": [
    "np.mean(means), np.mean(std)"
   ]
  },
  {
   "cell_type": "code",
   "execution_count": null,
   "metadata": {},
   "outputs": [],
   "source": []
  }
 ],
 "metadata": {
  "kernelspec": {
   "display_name": "Python 2",
   "language": "python",
   "name": "python2"
  },
  "language_info": {
   "codemirror_mode": {
    "name": "ipython",
    "version": 2
   },
   "file_extension": ".py",
   "mimetype": "text/x-python",
   "name": "python",
   "nbconvert_exporter": "python",
   "pygments_lexer": "ipython2",
   "version": "2.7.14"
  }
 },
 "nbformat": 4,
 "nbformat_minor": 2
}
