{
 "cells": [
  {
   "cell_type": "code",
   "execution_count": 7,
   "metadata": {},
   "outputs": [],
   "source": [
    "import numpy as np\n",
    "import pickle\n",
    "import matplotlib.pyplot as plt\n",
    "%matplotlib inline\n",
    "\n",
    "count_file = '/users/momori/documents/counts.txt'"
   ]
  },
  {
   "cell_type": "code",
   "execution_count": 3,
   "metadata": {},
   "outputs": [],
   "source": [
    "with open(count_file, 'r') as f:\n",
    "    counts = pickle.load(f)"
   ]
  },
  {
   "cell_type": "code",
   "execution_count": 8,
   "metadata": {},
   "outputs": [
    {
     "data": {
      "image/png": "[encoded data removed]",
      "text/plain": [
       "<matplotlib.figure.Figure at 0x1049da4d0>"
      ]
     },
     "metadata": {},
     "output_type": "display_data"
    }
   ],
   "source": [
    "plt.hist(counts, bins=100)\n",
    "plt.show()"
   ]
  },
  {
   "cell_type": "markdown",
   "metadata": {},
   "source": [
    "## Bootstrap\n",
    "\n",
    "Bootstrap from the distribution above to create a confidence interval of mean and std"
   ]
  },
  {
   "cell_type": "code",
   "execution_count": 10,
   "metadata": {},
   "outputs": [],
   "source": [
    "def bootstrap(samples, count=1000):\n",
    "    means = []\n",
    "    stds = []\n",
    "    \n",
    "    for _ in counts:\n",
    "        bootstrap_samples = np.random.choice(samples, len(samples))\n",
    "        means.append(np.mean(bootstrap_samples))\n",
    "        stds.append(np.std(bootstrap_samples))\n",
    "    return means, stds\n",
    "\n"
   ]
  },
  {
   "cell_type": "code",
   "execution_count": 11,
   "metadata": {},
   "outputs": [],
   "source": [
    "means, stds = bootstrap(counts)"
   ]
  },
  {
   "cell_type": "code",
   "execution_count": 15,
   "metadata": {},
   "outputs": [
    {
     "name": "stdout",
     "output_type": "stream",
     "text": [
      "95% confidence interval of mean: [7308.64386513 7865.27946135]\n"
     ]
    }
   ],
   "source": [
    "print '95% confidence interval of mean:', np.percentile(means, [2.5, 97.5])"
   ]
  },
  {
   "cell_type": "code",
   "execution_count": 16,
   "metadata": {},
   "outputs": [
    {
     "name": "stdout",
     "output_type": "stream",
     "text": [
      "95% confidence interval of std: [10821.93894305 11608.64066366]\n"
     ]
    }
   ],
   "source": [
    "print '95% confidence interval of std:', np.percentile(stds, [2.5, 97.5])"
   ]
  },
  {
   "cell_type": "code",
   "execution_count": 20,
   "metadata": {},
   "outputs": [
    {
     "data": {
      "text/plain": [
       "'\\n2 std away from the mean includes 95% of the data according to the definition of standard deviation. So is it fair to say \\nif a sample data is within [7308-2*11608, 7865+2*11608], the sample is from the same distribution? My thought is no since the original\\ndistribution is exponential whereas the bootstrapped distribution is normal, so I feel the comparison is not fair.\\n'"
      ]
     },
     "execution_count": 20,
     "metadata": {},
     "output_type": "execute_result"
    }
   ],
   "source": [
    "'''\n",
    "2 std away from the mean includes 95% of the data according to the definition of standard deviation. So is it fair to say \n",
    "if a sample data is within [7308-2*11608, 7865+2*11608], the sample is from the same distribution? My thought is no since the original\n",
    "distribution is exponential whereas the bootstrapped distribution is normal, so I feel the comparison is not fair.\n",
    "'''"
   ]
  },
  {
   "cell_type": "code",
   "execution_count": null,
   "metadata": {},
   "outputs": [],
   "source": []
  }
 ],
 "metadata": {
  "kernelspec": {
   "display_name": "Python 2",
   "language": "python",
   "name": "python2"
  },
  "language_info": {
   "codemirror_mode": {
    "name": "ipython",
    "version": 2
   },
   "file_extension": ".py",
   "mimetype": "text/x-python",
   "name": "python",
   "nbconvert_exporter": "python",
   "pygments_lexer": "ipython2",
   "version": "2.7.14"
  }
 },
 "nbformat": 4,
 "nbformat_minor": 2
}
