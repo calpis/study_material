{
 "cells": [
  {
   "cell_type": "code",
   "execution_count": 47,
   "metadata": {
    "collapsed": true
   },
   "outputs": [],
   "source": [
    "import numpy as np\n",
    "import math\n",
    "import matplotlib.pyplot as plt"
   ]
  },
  {
   "cell_type": "markdown",
   "metadata": {},
   "source": [
    "## Shannon Entropy\n",
    "\n",
    "Shannon entropy is defined by:\n",
    "\n",
    "$$H(X) = -\\sum_n{P(X=x)*log(P(X=x))}$$\n",
    "\n",
    "Where the summation is over all the classes in the probability distribution P and X is a random variable.\n",
    "\n",
    "Entropy is a measure of impurity.  It is quantified by the number of bits required to encode a piece of information.  For example, to encode a fair coin flip, one would need 1 bit (0 for tails, 1 for heads).  However, let's say there is an unfair coin where it only shows up heads.  Then, eventhough we have 2 outputs, only head is possible so we technically need 'less bits' (even though less than 1 bit is not possible).  That's why we multiple by the probability of each output class."
   ]
  },
  {
   "cell_type": "code",
   "execution_count": 78,
   "metadata": {},
   "outputs": [],
   "source": [
    "#measures impurity of distribution.\n",
    "#In other terms, returns at least how many bits are required to encode information\n",
    "def get_entropy(probabilities):\n",
    "    return -np.sum([probabilities[i]*math.log(probabilities[i],2) \\\n",
    "                    if probabilities[i] != 0 else probabilities[i]*math.log(0.0001, 2)\\\n",
    "                    for i in range(len(probabilities)) ])"
   ]
  },
  {
   "cell_type": "code",
   "execution_count": 83,
   "metadata": {},
   "outputs": [
    {
     "data": {
      "image/png": "[encoded data removed]",
      "text/plain": [
       "<matplotlib.figure.Figure at 0x11a380690>"
      ]
     },
     "metadata": {},
     "output_type": "display_data"
    }
   ],
   "source": [
    "#binary variable output with varying probabilities\n",
    "num_trials = 50\n",
    "xs = []\n",
    "ys = []\n",
    "for i in range(num_trials):\n",
    "    epsilon = i * (1/float(num_trials))\n",
    "    prob = 1 - epsilon\n",
    "    xs.append(epsilon)\n",
    "    ys.append(get_entropy([prob, epsilon]))\n",
    "\n",
    "    \n",
    "plt.plot(xs, ys)\n",
    "plt.ylabel('impurity. Min # of bits required')\n",
    "plt.xlabel('P(X=x)')\n",
    "plt.show()"
   ]
  },
  {
   "cell_type": "markdown",
   "metadata": {},
   "source": [
    "The above graph shows that if the probability is 0.5, we require the most number of bits (ie, highest impurity) to encode the data, where if the probability is close to 0 or 1, we need less bits.  \n",
    "\n"
   ]
  },
  {
   "cell_type": "code",
   "execution_count": 80,
   "metadata": {},
   "outputs": [
    {
     "data": {
      "text/plain": [
       "1.5834674497121084"
      ]
     },
     "execution_count": 80,
     "metadata": {},
     "output_type": "execute_result"
    }
   ],
   "source": [
    "#3 classes of uniform distribution\n",
    "#note that here we need at least 1.58 bits -> 2 bits. (three out of (00, 01, 10, 11))\n",
    "probabilities = [0.33, 0.33, 0.33]\n",
    "get_entropy(probabilities)"
   ]
  },
  {
   "cell_type": "code",
   "execution_count": 81,
   "metadata": {},
   "outputs": [
    {
     "data": {
      "text/plain": [
       "1.0"
      ]
     },
     "execution_count": 81,
     "metadata": {},
     "output_type": "execute_result"
    }
   ],
   "source": [
    "#in the case where one out of the three classes is impossible, we only need 1 bit\n",
    "probabilities = [0, 0.5, 0.5]\n",
    "get_entropy(probabilities)"
   ]
  },
  {
   "cell_type": "code",
   "execution_count": 71,
   "metadata": {},
   "outputs": [
    {
     "data": {
      "text/plain": [
       "1.4729490377237986"
      ]
     },
     "execution_count": 71,
     "metadata": {},
     "output_type": "execute_result"
    }
   ],
   "source": [
    "#if one of the class has a small possibility, we need an extra bit to represent it\n",
    "probabilities = [0.2, 0.49, 0.49]\n",
    "get_entropy(probabilities)"
   ]
  },
  {
   "cell_type": "code",
   "execution_count": 72,
   "metadata": {},
   "outputs": [
    {
     "data": {
      "text/plain": [
       "2.0"
      ]
     },
     "execution_count": 72,
     "metadata": {},
     "output_type": "execute_result"
    }
   ],
   "source": [
    "#for 4 classes, we can expect 2 bits required.\n",
    "probabilities = [0.25, 0.25, 0.25, 0.25]\n",
    "get_entropy(probabilities)"
   ]
  },
  {
   "cell_type": "code",
   "execution_count": 77,
   "metadata": {},
   "outputs": [
    {
     "data": {
      "text/plain": [
       "2.170950594454669"
      ]
     },
     "execution_count": 77,
     "metadata": {},
     "output_type": "execute_result"
    }
   ],
   "source": [
    "#with 5 classes, we will need more than 2.17 bits -> 3 bits to encode the information\n",
    "probabilities = [0.1, 0.3, 0.3, 0.1, 0.2]\n",
    "get_entropy(probabilities)"
   ]
  },
  {
   "cell_type": "code",
   "execution_count": null,
   "metadata": {
    "collapsed": true
   },
   "outputs": [],
   "source": []
  }
 ],
 "metadata": {
  "kernelspec": {
   "display_name": "Python 2",
   "language": "python",
   "name": "python2"
  },
  "language_info": {
   "codemirror_mode": {
    "name": "ipython",
    "version": 2
   },
   "file_extension": ".py",
   "mimetype": "text/x-python",
   "name": "python",
   "nbconvert_exporter": "python",
   "pygments_lexer": "ipython2",
   "version": "2.7.13"
  }
 },
 "nbformat": 4,
 "nbformat_minor": 2
}
