{
 "cells": [
  {
   "cell_type": "markdown",
   "metadata": {},
   "source": [
    "## https://www.python-course.eu/python3_decorators.php"
   ]
  },
  {
   "cell_type": "code",
   "execution_count": 1,
   "metadata": {},
   "outputs": [
    {
     "data": {
      "text/plain": [
       "11"
      ]
     },
     "execution_count": 1,
     "metadata": {},
     "output_type": "execute_result"
    }
   ],
   "source": [
    "def succ(x):\n",
    "    return x+1\n",
    "\n",
    "successor = succ\n",
    "successor(10)"
   ]
  },
  {
   "cell_type": "code",
   "execution_count": 5,
   "metadata": {},
   "outputs": [
    {
     "name": "stdout",
     "output_type": "stream",
     "text": [
      "foo has been called with: hi\n",
      "call decorate with foo\n",
      "before calling: foo\n",
      "foo has been called with: 42\n",
      "after calling: foo\n"
     ]
    }
   ],
   "source": [
    "def our_decorator(func):\n",
    "    def function_wrapper(x):\n",
    "        print 'before calling:', func.__name__\n",
    "        func(x)\n",
    "        print 'after calling:', func.__name__\n",
    "    return function_wrapper\n",
    "\n",
    "def foo(x):\n",
    "    print 'foo has been called with:', str(x)\n",
    "    \n",
    "foo('hi')\n",
    "\n",
    "print 'call decorate with foo'\n",
    "foo = our_decorator(foo)\n",
    "foo(42)"
   ]
  },
  {
   "cell_type": "markdown",
   "metadata": {},
   "source": [
    "### using @ mark (pie)"
   ]
  },
  {
   "cell_type": "code",
   "execution_count": 6,
   "metadata": {},
   "outputs": [
    {
     "name": "stdout",
     "output_type": "stream",
     "text": [
      "Before calling foo\n",
      "Hi, foo has been called with Hi\n",
      "After calling foo\n"
     ]
    }
   ],
   "source": [
    "def our_decorator(func):\n",
    "    def function_wrapper(x):\n",
    "        print(\"Before calling \" + func.__name__)\n",
    "        func(x)\n",
    "        print(\"After calling \" + func.__name__)\n",
    "    return function_wrapper\n",
    "\n",
    "@our_decorator\n",
    "def foo(x):\n",
    "    print(\"Hi, foo has been called with \" + str(x))\n",
    "\n",
    "foo(\"Hi\")"
   ]
  },
  {
   "cell_type": "code",
   "execution_count": null,
   "metadata": {},
   "outputs": [],
   "source": []
  },
  {
   "cell_type": "markdown",
   "metadata": {},
   "source": [
    "##https://medium.com/@nkhaja/memoization-and-decorators-with-python-32f607439f84"
   ]
  },
  {
   "cell_type": "code",
   "execution_count": 7,
   "metadata": {},
   "outputs": [],
   "source": [
    "# iterative\n",
    "def fib_iterative(n):\n",
    "      if (n == 0):\n",
    "              return 0\n",
    "      elif (n == 1):\n",
    "             return 1\n",
    "      elif (n >1 ):\n",
    "              fn = 0\n",
    "              fn1 = 1\n",
    "              fn2 = 2\n",
    "              for i in range(3, n):\n",
    "                      fn = fn1+fn2\n",
    "                      fn1 = fn2\n",
    "                      fn2 = fn\n",
    "              return fn\n",
    "# recursive\n",
    "def fib(n):\n",
    "    if n == 0:return 0\n",
    "    if n == 1:return 1\n",
    "    else: return fib(n-1) + fib(n-2)"
   ]
  },
  {
   "cell_type": "code",
   "execution_count": 12,
   "metadata": {},
   "outputs": [
    {
     "name": "stdout",
     "output_type": "stream",
     "text": [
      "iter: 0.000334024429321\n",
      "reg: 0.898941040039\n"
     ]
    }
   ],
   "source": [
    "import time\n",
    "n = 30\n",
    "start = time.time()\n",
    "fib_iterative(n)\n",
    "print 'iter:', time.time() - start\n",
    "\n",
    "start = time.time()\n",
    "fib(n)\n",
    "print 'reg:', time.time() - start"
   ]
  },
  {
   "cell_type": "code",
   "execution_count": 31,
   "metadata": {},
   "outputs": [],
   "source": [
    "sample_strings = ['getGooglePalyServiceVersion', 'runninng', 'referenece ', 'alghorithms ', \\\n",
    "                  'mDateSetListner ', 'getWindowsHeigh ', 'leaks!', 'Tags!', 'Intent!',\\\n",
    "                  'Google', 'Google', 'google']\n",
    "\n",
    "import functools\n",
    "import collections\n",
    "\n",
    "class google_finder(object):\n",
    "    def __init__(self):\n",
    "        pass\n",
    "    \n",
    "    \n",
    "    class memoized(object):\n",
    "        def __init__(self, func):\n",
    "            self.func = func\n",
    "            self.cache = {}\n",
    "            \n",
    "        def __call__(self, *args):\n",
    "            if not isinstance(args, collections.Hashable):\n",
    "                print 'not hashable args'\n",
    "                return self.func(*args)\n",
    "            if args in self.cache:\n",
    "                print 'found in cache:', args\n",
    "                return self.cache[args]\n",
    "            else:\n",
    "                value = self.func(*args)\n",
    "                self.cache[args] = value\n",
    "                return value\n",
    "        \n",
    "        def __repr__(self):\n",
    "            'return func doc string'\n",
    "            return self.func.__doc__\n",
    "        \n",
    "        def __get__(self, obj, objtype):\n",
    "            return functools.partial(self.__call__, obj)\n",
    "        \n",
    "        \n",
    "    @memoized\n",
    "    def find_google(self, st):\n",
    "        if 'google' in st:\n",
    "            return True\n",
    "        if 'Google' in st:\n",
    "            return True\n",
    "        return False\n",
    "    \n",
    "\n"
   ]
  },
  {
   "cell_type": "code",
   "execution_count": 32,
   "metadata": {},
   "outputs": [
    {
     "name": "stdout",
     "output_type": "stream",
     "text": [
      "getGooglePalyServiceVersion\n",
      "runninng\n",
      "referenece \n",
      "alghorithms \n",
      "mDateSetListner \n",
      "getWindowsHeigh \n",
      "leaks!\n",
      "Tags!\n",
      "Intent!\n",
      "Google\n",
      "Google\n",
      "found in cache: (<__main__.google_finder object at 0x103768890>, 'Google')\n",
      "google\n"
     ]
    }
   ],
   "source": [
    "g = google_finder()\n",
    "for i in sample_strings:\n",
    "    print i\n",
    "    g.find_google(i)"
   ]
  },
  {
   "cell_type": "code",
   "execution_count": null,
   "metadata": {},
   "outputs": [],
   "source": []
  }
 ],
 "metadata": {
  "kernelspec": {
   "display_name": "Python 2",
   "language": "python",
   "name": "python2"
  },
  "language_info": {
   "codemirror_mode": {
    "name": "ipython",
    "version": 2
   },
   "file_extension": ".py",
   "mimetype": "text/x-python",
   "name": "python",
   "nbconvert_exporter": "python",
   "pygments_lexer": "ipython2",
   "version": "2.7.14"
  }
 },
 "nbformat": 4,
 "nbformat_minor": 2
}
